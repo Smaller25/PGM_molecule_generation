{
 "cells": [
  {
   "cell_type": "code",
   "execution_count": 8,
   "metadata": {},
   "outputs": [
    {
     "name": "stderr",
     "output_type": "stream",
     "text": [
      "������ ��θ� ã�� �� �����ϴ�.\n"
     ]
    },
    {
     "ename": "ValueError",
     "evalue": "There must be exactly one *.pkl file. Found the following: [].",
     "output_type": "error",
     "traceback": [
      "\u001b[1;31m---------------------------------------------------------------------------\u001b[0m",
      "\u001b[1;31mValueError\u001b[0m                                Traceback (most recent call last)",
      "Cell \u001b[1;32mIn[8], line 7\u001b[0m\n\u001b[0;32m      4\u001b[0m model_dir \u001b[39m=\u001b[39m \u001b[39m\"\u001b[39m\u001b[39m./GNNMLP_model\u001b[39m\u001b[39m\"\u001b[39m\n\u001b[0;32m      5\u001b[0m example_smiles \u001b[39m=\u001b[39m [\u001b[39m\"\u001b[39m\u001b[39mc1ccccc1\u001b[39m\u001b[39m\"\u001b[39m, \u001b[39m\"\u001b[39m\u001b[39mCNC=O\u001b[39m\u001b[39m\"\u001b[39m]\n\u001b[1;32m----> 7\u001b[0m \u001b[39mwith\u001b[39;00m load_model_from_directory(model_dir) \u001b[39mas\u001b[39;00m model:\n\u001b[0;32m      8\u001b[0m     embeddings \u001b[39m=\u001b[39m model\u001b[39m.\u001b[39mencode(example_smiles)\n\u001b[0;32m      9\u001b[0m     \u001b[39mprint\u001b[39m(\u001b[39mf\u001b[39m\u001b[39m\"\u001b[39m\u001b[39mEmbedding shape: \u001b[39m\u001b[39m{\u001b[39;00membeddings[\u001b[39m0\u001b[39m]\u001b[39m.\u001b[39mshape\u001b[39m}\u001b[39;00m\u001b[39m\"\u001b[39m)\n",
      "File \u001b[1;32m~\\tmp\\molecule-generation\\molecule_generation\\wrapper.py:187\u001b[0m, in \u001b[0;36mload_model_from_directory\u001b[1;34m(model_dir, **model_kwargs)\u001b[0m\n\u001b[0;32m    185\u001b[0m \u001b[39mdef\u001b[39;00m \u001b[39mload_model_from_directory\u001b[39m(model_dir: \u001b[39mstr\u001b[39m, \u001b[39m*\u001b[39m\u001b[39m*\u001b[39mmodel_kwargs) \u001b[39m-\u001b[39m\u001b[39m>\u001b[39m ModelWrapper:\n\u001b[0;32m    186\u001b[0m     model_class_to_wrapper \u001b[39m=\u001b[39m {MoLeRGenerator: GeneratorWrapper, MoLeRVae: VaeWrapper}\n\u001b[1;32m--> 187\u001b[0m     model_class \u001b[39m=\u001b[39m get_model_class(ModelWrapper\u001b[39m.\u001b[39;49m_get_model_file(model_dir))\n\u001b[0;32m    189\u001b[0m     \u001b[39mif\u001b[39;00m model_class \u001b[39mnot\u001b[39;00m \u001b[39min\u001b[39;00m model_class_to_wrapper:\n\u001b[0;32m    190\u001b[0m         \u001b[39mraise\u001b[39;00m \u001b[39mValueError\u001b[39;00m(\u001b[39mf\u001b[39m\u001b[39m\"\u001b[39m\u001b[39mCould not found a wrapper suitable for model class \u001b[39m\u001b[39m{\u001b[39;00mmodel_class\u001b[39m}\u001b[39;00m\u001b[39m\"\u001b[39m)\n",
      "File \u001b[1;32m~\\tmp\\molecule-generation\\molecule_generation\\wrapper.py:54\u001b[0m, in \u001b[0;36mModelWrapper._get_model_file\u001b[1;34m(cls, dir)\u001b[0m\n\u001b[0;32m     52\u001b[0m candidates \u001b[39m=\u001b[39m \u001b[39mlist\u001b[39m(pathlib\u001b[39m.\u001b[39mPath(\u001b[39mdir\u001b[39m)\u001b[39m.\u001b[39mglob(\u001b[39m\"\u001b[39m\u001b[39m*.pkl\u001b[39m\u001b[39m\"\u001b[39m))\n\u001b[0;32m     53\u001b[0m \u001b[39mif\u001b[39;00m \u001b[39mlen\u001b[39m(candidates) \u001b[39m!=\u001b[39m \u001b[39m1\u001b[39m:\n\u001b[1;32m---> 54\u001b[0m     \u001b[39mraise\u001b[39;00m \u001b[39mValueError\u001b[39;00m(\n\u001b[0;32m     55\u001b[0m         \u001b[39mf\u001b[39m\u001b[39m\"\u001b[39m\u001b[39mThere must be exactly one *.pkl file. Found the following: \u001b[39m\u001b[39m{\u001b[39;00mcandidates\u001b[39m}\u001b[39;00m\u001b[39m.\u001b[39m\u001b[39m\"\u001b[39m\n\u001b[0;32m     56\u001b[0m     )\n\u001b[0;32m     57\u001b[0m \u001b[39melse\u001b[39;00m:\n\u001b[0;32m     58\u001b[0m     \u001b[39mreturn\u001b[39;00m candidates[\u001b[39m0\u001b[39m]\n",
      "\u001b[1;31mValueError\u001b[0m: There must be exactly one *.pkl file. Found the following: []."
     ]
    }
   ],
   "source": [
    "from molecule_generation import load_model_from_directory\n",
    "\n",
    "!cd /home/smaller25/data\n",
    "model_dir = \"./GNNMLP_model\"\n",
    "example_smiles = [\"c1ccccc1\", \"CNC=O\"]\n",
    "\n",
    "with load_model_from_directory(model_dir) as model:\n",
    "    embeddings = model.encode(example_smiles)\n",
    "    print(f\"Embedding shape: {embeddings[0].shape}\")\n",
    "\n",
    "    # Decode without a scaffold constraint.\n",
    "    decoded = model.decode(embeddings)\n",
    "\n",
    "    # The i-th scaffold will be used when decoding the i-th latent vector.\n",
    "    decoded_scaffolds = model.decode(embeddings, scaffolds=[\"CN\", \"CCC\"])\n",
    "\n",
    "    print(f\"Encoded: {example_smiles}\")\n",
    "    print(f\"Decoded: {decoded}\")\n",
    "    print(f\"Decoded with scaffolds: {decoded_scaffolds}\")"
   ]
  },
  {
   "cell_type": "code",
   "execution_count": 11,
   "metadata": {},
   "outputs": [
    {
     "data": {
      "text/plain": [
       "'c:\\\\Users\\\\ADMIN\\\\Desktop\\\\seoul\\\\Lecture_23_1\\\\pgm\\\\final_moler'"
      ]
     },
     "execution_count": 11,
     "metadata": {},
     "output_type": "execute_result"
    }
   ],
   "source": [
    "pwd"
   ]
  },
  {
   "cell_type": "code",
   "execution_count": null,
   "metadata": {},
   "outputs": [],
   "source": []
  }
 ],
 "metadata": {
  "kernelspec": {
   "display_name": "moler-env",
   "language": "python",
   "name": "python3"
  },
  "language_info": {
   "codemirror_mode": {
    "name": "ipython",
    "version": 3
   },
   "file_extension": ".py",
   "mimetype": "text/x-python",
   "name": "python",
   "nbconvert_exporter": "python",
   "pygments_lexer": "ipython3",
   "version": "3.9.13"
  },
  "orig_nbformat": 4
 },
 "nbformat": 4,
 "nbformat_minor": 2
}
